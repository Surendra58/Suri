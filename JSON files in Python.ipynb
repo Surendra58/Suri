{
 "cells": [
  {
   "cell_type": "code",
   "execution_count": 1,
   "metadata": {},
   "outputs": [],
   "source": [
    "# Saving JSON Data\n",
    "import json\n",
    "# example dictionary to save as JSON\n",
    "data = {\n",
    "    \"first_name\":\"John\",\n",
    "    \"last_name\":\"Doe\",\n",
    "    \"email\":\"john@doe.com\",\n",
    "    \"salary\":1499.9, # just to demonstrate we can use floats as well\n",
    "    \"age\":17,\n",
    "    \"is_real\":False, # also booleans!\n",
    "    \"titles\":[\"The Unknown\",\"Anonymous\"] # also lists!\n",
    "}\n",
    "# save JSON file\n",
    "# 1st option\n",
    "with open(\"data1.json\",\"w\") as f:\n",
    "    json.dump(data,f)\n",
    "    \n",
    "# 2nd option\n",
    "with open(\"data2.json\",\"w\") as f:\n",
    "    f.write(json.dumps(data,indent=4))   \n",
    "# json.dumps() function returns the dictionary as a JSON parsed string    "
   ]
  },
  {
   "cell_type": "code",
   "execution_count": null,
   "metadata": {},
   "outputs": [],
   "source": [
    "# Notice I added indent=4 this time as a parameter to json.dumps() function,this will pretty-print JSON array elements and object members,if you use indent=0,it'll only print new lines,and if it's None (default),then it's dumped in a single line (not human readable).The indent keyword exist both in dump() and dumps() functions."
   ]
  },
  {
   "cell_type": "code",
   "execution_count": 3,
   "metadata": {},
   "outputs": [],
   "source": [
    "# Handling Non-ASCII Characters\n",
    "# If your data contains non ASCII characters, and you don't want unicode instances on your JSON file (such as \\u0623), then you should pass ensure_ascii=False to json.dump() function:\n",
    "\n",
    "unicode_data = {\n",
    "    \"first_name\": \"أحمد\",\n",
    "    \"last_name\": \"علي\"\n",
    "}\n",
    "\n",
    "with open(\"data_unicode.json\",\"w\",encoding=\"utf-8\") as f:\n",
    "    json.dump(unicode_data,f,ensure_ascii=False)"
   ]
  },
  {
   "cell_type": "code",
   "execution_count": 4,
   "metadata": {},
   "outputs": [
    {
     "name": "stdout",
     "output_type": "stream",
     "text": [
      "{'first_name': 'John', 'last_name': 'Doe', 'email': 'john@doe.com', 'salary': 1499.9, 'age': 17, 'is_real': False, 'titles': ['The Unknown', 'Anonymous']}\n"
     ]
    }
   ],
   "source": [
    "# Loading JSON Data\n",
    "# read a JSON file\n",
    "# 1st option\n",
    "file_name = \"data1.json\"\n",
    "with open(file_name) as f:\n",
    "    data = json.load(f)\n",
    "    \n",
    "print(data)"
   ]
  },
  {
   "cell_type": "code",
   "execution_count": null,
   "metadata": {},
   "outputs": [],
   "source": [
    "# json.load() function will automatically return a Python dictionary, which ease our work with JSON files, here is the output:"
   ]
  },
  {
   "cell_type": "code",
   "execution_count": 6,
   "metadata": {},
   "outputs": [
    {
     "name": "stdout",
     "output_type": "stream",
     "text": [
      "{'first_name': 'John', 'last_name': 'Doe', 'email': 'john@doe.com', 'salary': 1499.9, 'age': 17, 'is_real': False, 'titles': ['The Unknown', 'Anonymous']}\n"
     ]
    }
   ],
   "source": [
    "# Similarly, you can also use json.loads() function to read a string instead:\n",
    "\n",
    "# 2nd option\n",
    "file_name=\"data1.json\"\n",
    "with open(file_name) as f:\n",
    "    data = json.loads(f.read())\n",
    "print(data)"
   ]
  },
  {
   "cell_type": "code",
   "execution_count": null,
   "metadata": {},
   "outputs": [],
   "source": []
  }
 ],
 "metadata": {
  "kernelspec": {
   "display_name": "Python 3",
   "language": "python",
   "name": "python3"
  },
  "language_info": {
   "codemirror_mode": {
    "name": "ipython",
    "version": 3
   },
   "file_extension": ".py",
   "mimetype": "text/x-python",
   "name": "python",
   "nbconvert_exporter": "python",
   "pygments_lexer": "ipython3",
   "version": "3.7.7"
  }
 },
 "nbformat": 4,
 "nbformat_minor": 4
}
