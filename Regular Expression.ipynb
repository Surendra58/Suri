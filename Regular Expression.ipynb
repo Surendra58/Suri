{
 "cells": [
  {
   "cell_type": "markdown",
   "metadata": {},
   "source": [
    "How to Use Regular Expressions in Python\n",
    "# https://www.thepythoncode.com/article/work-with-regular-expressions-in-python?utm_source=newsletter&utm_medium=email&utm_campaign=newsletter"
   ]
  },
  {
   "cell_type": "code",
   "execution_count": 1,
   "metadata": {},
   "outputs": [
    {
     "name": "stdout",
     "output_type": "stream",
     "text": [
      "Password: pwd,validate password strength:False\n",
      "Password: password,validate password strength:False\n",
      "Password: password1,validate password strength:True\n"
     ]
    }
   ],
   "source": [
    "import re # stands for regular expression \n",
    "# a regular expression for validating a password\n",
    "match_regex=r\"^(?=.*[0-9]).{8,}$\"\n",
    "# a list of example passwords\n",
    "passwords=[\"pwd\",\"password\",\"password1\"]\n",
    "for pwd in passwords:\n",
    "    m=re.match(match_regex,pwd)\n",
    "    print(f\"Password: {pwd},validate password strength:{bool(m)}\")"
   ]
  },
  {
   "cell_type": "code",
   "execution_count": null,
   "metadata": {},
   "outputs": [],
   "source": [
    "# match_regex is the regular expression responsible for validating the password criteria we mentioned earlier:\n",
    "# ^: Start character.\n",
    "# (?=.*[0-9]): Ensure string has at least a digit.\n",
    "# .{8,}: Ensure string has at least 8 characters.\n",
    "# $: End character."
   ]
  },
  {
   "cell_type": "markdown",
   "metadata": {},
   "source": [
    "Search Method : re.search() method is to search for a specific pattern in a string"
   ]
  },
  {
   "cell_type": "code",
   "execution_count": 2,
   "metadata": {},
   "outputs": [
    {
     "name": "stdout",
     "output_type": "stream",
     "text": [
      "<re.Match object; span=(280, 291), match='192.168.1.1'>\n"
     ]
    }
   ],
   "source": [
    "import re\n",
    "# part of ipconfig output\n",
    "example_text = \"\"\"\n",
    "Wireless LAN adapter Wi-Fi:\n",
    "   Connection-specific DNS Suffix  . :\n",
    "   Link-local IPv6 Address . . . . . : fe80::380e:9710:5172:caee%2\n",
    "   IPv4 Address. . . . . . . . . . . : 192.168.1.100\n",
    "   Subnet Mask . . . . . . . . . . . : 255.255.255.0\n",
    "   Default Gateway . . . . . . . . . : 192.168.1.1\n",
    "\"\"\"\n",
    "# regex for IPv4 address\n",
    "ip_address_regex = r\"((25[0-5]|(2[0-4]|1[0-9]|[1-9]|)[0-9])(\\.(?!$)|$)){4}\"\n",
    "# use re.search() method to get the match object\n",
    "match = re.search(ip_address_regex, example_text)\n",
    "print(match)"
   ]
  },
  {
   "cell_type": "markdown",
   "metadata": {},
   "source": [
    "match.start() to get the index of the first character of the found pattern.\n",
    "match.end() to get the index of the last character fo the found pattern.\n",
    "match.span() to get both start and end as a tuple (start, end).\n",
    "match.group() to get the actual string found."
   ]
  },
  {
   "cell_type": "markdown",
   "metadata": {},
   "source": [
    "Finding Multiple Matches"
   ]
  },
  {
   "cell_type": "code",
   "execution_count": 3,
   "metadata": {},
   "outputs": [
    {
     "name": "stdout",
     "output_type": "stream",
     "text": [
      "['88-90-E6-28-35-FA', '04-00-4C-4F-4F-60', 'B8-21-5E-D3-66-98', 'A0-00-79-AA-62-74']\n"
     ]
    }
   ],
   "source": [
    "import re\n",
    "# fake ipconfig output\n",
    "example_text = \"\"\"\n",
    "Ethernet adapter Ethernet:\n",
    "   Media State . . . . . . . . . . . : Media disconnected\n",
    "   Physical Address. . . . . . . . . : 88-90-E6-28-35-FA\n",
    "Ethernet adapter Ethernet 2:\n",
    "   Physical Address. . . . . . . . . : 04-00-4C-4F-4F-60\n",
    "   Autoconfiguration IPv4 Address. . : 169.254.204.56(Preferred)\n",
    "Wireless LAN adapter Local Area Connection* 2:\n",
    "   Media State . . . . . . . . . . . : Media disconnected\n",
    "   Physical Address. . . . . . . . . : B8-21-5E-D3-66-98\n",
    "Wireless LAN adapter Wi-Fi:\n",
    "   Physical Address. . . . . . . . . : A0-00-79-AA-62-74\n",
    "   IPv4 Address. . . . . . . . . . . : 192.168.1.101(Preferred)\n",
    "   Default Gateway . . . . . . . . . : 192.168.1.1\n",
    "\"\"\"\n",
    "# regex for MAC address\n",
    "mac_address_regex=r\"([0-9A-Fa-f]{2}[:-]){5}([0-9A-Fa-f]{2})\"\n",
    "# iterate over matches and extract MAC addresses\n",
    "extracted_mac_addresses=[ m.group(0) for m in re.finditer(mac_address_regex,example_text)]\n",
    "print(extracted_mac_addresses)"
   ]
  },
  {
   "cell_type": "markdown",
   "metadata": {},
   "source": [
    "Replacing Matches"
   ]
  },
  {
   "cell_type": "markdown",
   "metadata": {},
   "source": [
    "If you have experience on web scraping, you may be encoutered with a website that uses a service like CloudFlare to hide email addresses from email harvester tools. In this section, we will do exactly that, given a string that has email addresses, we will replace each one of the addresses by a '[email protected]' token:"
   ]
  },
  {
   "cell_type": "code",
   "execution_count": 4,
   "metadata": {},
   "outputs": [
    {
     "name": "stdout",
     "output_type": "stream",
     "text": [
      "\n",
      "Subject: This is a text email!\n",
      "From: John Doe <[email protected]>\n",
      "Some text here!\n",
      "===============================\n",
      "Subject: This is another email!\n",
      "From: Abdou Rockikz <[email protected]>\n",
      "Some other text!\n",
      "\n"
     ]
    }
   ],
   "source": [
    "import re\n",
    "# a basic regular expression for email matching\n",
    "email_regex=r\"[a-zA-Z0-9_.+-]+@[a-zA-Z0-9-]+\\.[a-zA-Z0-9-.]+\"\n",
    "# example text to test with\n",
    "example_text=\"\"\"\n",
    "Subject: This is a text email!\n",
    "From: John Doe <john@doe.com>\n",
    "Some text here!\n",
    "===============================\n",
    "Subject: This is another email!\n",
    "From: Abdou Rockikz <example@domain.com>\n",
    "Some other text!\n",
    "\"\"\"\n",
    "# substitute any email found with [email protected]\n",
    "print(re.sub(email_regex,\"[email protected]\",example_text))"
   ]
  },
  {
   "cell_type": "code",
   "execution_count": null,
   "metadata": {},
   "outputs": [],
   "source": []
  }
 ],
 "metadata": {
  "kernelspec": {
   "display_name": "Python 3",
   "language": "python",
   "name": "python3"
  },
  "language_info": {
   "codemirror_mode": {
    "name": "ipython",
    "version": 3
   },
   "file_extension": ".py",
   "mimetype": "text/x-python",
   "name": "python",
   "nbconvert_exporter": "python",
   "pygments_lexer": "ipython3",
   "version": "3.7.7"
  }
 },
 "nbformat": 4,
 "nbformat_minor": 4
}
